{
 "cells": [
  {
   "cell_type": "code",
   "execution_count": 1,
   "metadata": {},
   "outputs": [
    {
     "ename": "NameError",
     "evalue": "name 'phasetd' is not defined",
     "output_type": "error",
     "traceback": [
      "\u001b[0;31m---------------------------------------------------------------------------\u001b[0m",
      "\u001b[0;31mNameError\u001b[0m                                 Traceback (most recent call last)",
      "\u001b[0;32m<ipython-input-1-acfbcf0a67e0>\u001b[0m in \u001b[0;36m<module>\u001b[0;34m\u001b[0m\n\u001b[1;32m     18\u001b[0m \u001b[0mEofT\u001b[0m\u001b[0;34m=\u001b[0m\u001b[0mAofT\u001b[0m\u001b[0;34m*\u001b[0m\u001b[0mnp\u001b[0m\u001b[0;34m.\u001b[0m\u001b[0mexp\u001b[0m\u001b[0;34m(\u001b[0m\u001b[0;36m1j\u001b[0m\u001b[0;34m*\u001b[0m\u001b[0momega0\u001b[0m\u001b[0;34m*\u001b[0m\u001b[0mt\u001b[0m\u001b[0;34m)\u001b[0m\u001b[0;34m\u001b[0m\u001b[0;34m\u001b[0m\u001b[0m\n\u001b[1;32m     19\u001b[0m \u001b[0mphase_td\u001b[0m \u001b[0;34m=\u001b[0m \u001b[0;34m-\u001b[0m\u001b[0;36m1\u001b[0m\u001b[0;34m*\u001b[0m\u001b[0mnp\u001b[0m\u001b[0;34m.\u001b[0m\u001b[0marctan2\u001b[0m\u001b[0;34m(\u001b[0m\u001b[0mnp\u001b[0m\u001b[0;34m.\u001b[0m\u001b[0mimag\u001b[0m\u001b[0;34m(\u001b[0m\u001b[0mEofT\u001b[0m\u001b[0;34m)\u001b[0m\u001b[0;34m,\u001b[0m\u001b[0mnp\u001b[0m\u001b[0;34m.\u001b[0m\u001b[0mreal\u001b[0m\u001b[0;34m(\u001b[0m\u001b[0mEofT\u001b[0m\u001b[0;34m)\u001b[0m\u001b[0;34m)\u001b[0m\u001b[0;34m\u001b[0m\u001b[0;34m\u001b[0m\u001b[0m\n\u001b[0;32m---> 20\u001b[0;31m \u001b[0mphase_td\u001b[0m \u001b[0;34m=\u001b[0m \u001b[0mnp\u001b[0m\u001b[0;34m.\u001b[0m\u001b[0munwrap\u001b[0m\u001b[0;34m(\u001b[0m\u001b[0mphasetd\u001b[0m\u001b[0;34m)\u001b[0m\u001b[0;34m\u001b[0m\u001b[0;34m\u001b[0m\u001b[0m\n\u001b[0m\u001b[1;32m     21\u001b[0m \u001b[0mspectrum_td\u001b[0m \u001b[0;34m=\u001b[0m \u001b[0;34m(\u001b[0m\u001b[0mnp\u001b[0m\u001b[0;34m.\u001b[0m\u001b[0mabs\u001b[0m\u001b[0;34m(\u001b[0m\u001b[0mEofT\u001b[0m\u001b[0;34m)\u001b[0m\u001b[0;34m)\u001b[0m\u001b[0;34m**\u001b[0m\u001b[0;36m2\u001b[0m\u001b[0;34m\u001b[0m\u001b[0;34m\u001b[0m\u001b[0m\n\u001b[1;32m     22\u001b[0m \u001b[0;34m\u001b[0m\u001b[0m\n",
      "\u001b[0;31mNameError\u001b[0m: name 'phasetd' is not defined"
     ]
    }
   ],
   "source": [
    "import numpy as np\n",
    "import matplotlib.pyplot as plt\n",
    "import scipy.fftpack\n",
    "from scipy.interpolate import interp1d\n",
    "\n",
    "\n",
    "#parameters that can be changed\n",
    "pulsewidth=330e-15\n",
    "sampling_rate=240/pulsewidth\n",
    "lambda0=1030e-9\n",
    "t=1/sampling_rate*np.arange(-800,800)\n",
    "wavelength_vec_limits=(lambda0-200e-9, lambda0+200e-9)\n",
    "\n",
    "c=299792458.0\n",
    "omega0=2*np.pi*c/lambda0 #note: frequency plot is centered around central frequency, not angular frequency\n",
    "\n",
    "AofT=np.exp(-1.386*(t/pulsewidth)**2)\n",
    "EofT=AofT*np.exp(1j*omega0*t)\n",
    "phase_td = -1*np.arctan2(np.imag(EofT),np.real(EofT))\n",
    "phase_td = np.unwrap(phasetd)\n",
    "spectrum_td = (np.abs(EofT))**2\n",
    "\n",
    "EofF=np.fft.fft(EofT)\n",
    "freq_vector = np.fft.fftfreq(n=(EofF.size), d=1/sampling_rate)\n",
    "phase_fd = -1*np.arctan2(np.imag(EofF),np.real(EofF))\n",
    "phase_fd = np.unwrap(phasefd)\n",
    "spectrum_fd = (np.abs(EofF))**2\n",
    "\n",
    "wavelength_vector = np.linspace(wavelength_vec_limits[0],wavelength_vec_limits[1],num=len(freq_vector))\n",
    "spectrum_wd_interp = interp1d(2*np.pi*freq_vector, spectrum_fd)\n",
    "spectrum_wd = (2*np.pi*c/(wavelength_vector**2))*spectrum_wd_interp(2*np.pi*c/wavelength_vector)\n",
    "phase_wd_interp = interp1d(2*np.pi*freq_vector, phase_fd)\n",
    "phase_wd = phase_wd_interp(2*np.pi*c/wavelength_vector)\n",
    "\n",
    "fig, plots = plt.subplots(3,2,figsize=(15,15))\n",
    "plots[0,0].set_title(\"Time Domain Intensity\")\n",
    "plots[0,0].plot(t, spectrumtd)\n",
    "plots[0,1].set_title(\"Time Domain Phase\")\n",
    "plots[0,1].plot(t, phasetd)\n",
    "plots[1,0].set_title(\"Frequency Domain Spectrum\")\n",
    "plots[1,0].plot(np.fft.fftshift(freq_vector), spectrum_fd)\n",
    "plots[1,1].set_title(\"Frequency Domain Phase\")\n",
    "plots[1,1].plot(np.fft.fftshift(freq_vector), phase_fd)\n",
    "plots[2,0].set_title(\"Wavelength Domain Spectrum\")\n",
    "plots[2,0].plot(wavelength_vector, spectrum_wd)\n",
    "plots[2,1].set_title(\"Wavelength Domain Phase\")\n",
    "plots[2,1].plot(wavelength_vector, phase_wd)"
   ]
  },
  {
   "cell_type": "code",
   "execution_count": 84,
   "metadata": {},
   "outputs": [],
   "source": [
    "import numpy as np\n",
    "%matplotlib inline\n",
    "import matplotlib.pyplot as plt\n",
    "import scipy.fftpack\n",
    "from scipy.interpolate import interp1d\n",
    "\n",
    "#parameters that can be changed\n",
    "pulsewidth=330e-15\n",
    "sampling_rate=300/pulsewidth\n",
    "lambda0=1030e-9\n",
    "t=1/sampling_rate*np.arange(-800,800)\n",
    "wavelength_vec_limits=(lambda0-200e-9, lambda0+200e-9)\n",
    "\n",
    "c=299792458.0\n",
    "omega0=2*np.pi*c/lambda0 #note: frequency plot is centered around central frequency, not angular frequency\n",
    "\n",
    "AofT=np.exp(-1.386*(t/pulsewidth)**2)\n",
    "EofT=AofT*np.exp(1j*omega0*t)\n",
    "phase_td = -1*np.angle(EofT)\n",
    "phase_td = np.unwrap(phase_td)\n",
    "spectrum_td = (np.abs(EofT))**2"
   ]
  },
  {
   "cell_type": "code",
   "execution_count": 85,
   "metadata": {},
   "outputs": [
    {
     "name": "stderr",
     "output_type": "stream",
     "text": [
      "/Users/jackhirschman/anaconda3/envs/main_env/lib/python3.7/site-packages/numpy/core/_asarray.py:83: ComplexWarning: Casting complex values to real discards the imaginary part\n",
      "  return array(a, dtype, copy=False, order=order)\n"
     ]
    },
    {
     "data": {
      "image/png": "[encoded data removed]",
      "text/plain": [
       "<Figure size 432x288 with 1 Axes>"
      ]
     },
     "metadata": {
      "needs_background": "light"
     },
     "output_type": "display_data"
    },
    {
     "name": "stdout",
     "output_type": "stream",
     "text": [
      "1600\n"
     ]
    }
   ],
   "source": [
    "plt.plot(t,AofT)\n",
    "plt.plot(t, EofT)\n",
    "plt.xlim(-1e-12,1e-12)\n",
    "plt.show()\n",
    "print(EofT.shape[0])"
   ]
  },
  {
   "cell_type": "code",
   "execution_count": 111,
   "metadata": {},
   "outputs": [],
   "source": [
    "EofT_ft = np.fft.fft(EofT)\n",
    "Int_ft = ((np.abs(EofT_ft)**2))\n",
    "phase_ft = ((np.angle(EofT_ft)))\n",
    "EofT_ft = (np.fft.fft(EofT))         \n",
    "freq = (np.fft.fftfreq(n=EofT.shape[0],d=1/sampling_rate))"
   ]
  },
  {
   "cell_type": "code",
   "execution_count": 113,
   "metadata": {},
   "outputs": [
    {
     "data": {
      "text/plain": [
       "[<matplotlib.lines.Line2D at 0x7fc4ab5b28d0>]"
      ]
     },
     "execution_count": 113,
     "metadata": {},
     "output_type": "execute_result"
    },
    {
     "data": {
      "image/png": "[encoded data removed]",
      "text/plain": [
       "<Figure size 432x288 with 1 Axes>"
      ]
     },
     "metadata": {
      "needs_background": "light"
     },
     "output_type": "display_data"
    }
   ],
   "source": [
    "plt.plot(freq, Int_ft)\n",
    "plt.plot(freq,phase_ft)\n",
    "#plt.xlim(-2e14, 2e14)"
   ]
  },
  {
   "cell_type": "code",
   "execution_count": 72,
   "metadata": {},
   "outputs": [
    {
     "data": {
      "text/plain": [
       "291060638834951.4"
      ]
     },
     "execution_count": 72,
     "metadata": {},
     "output_type": "execute_result"
    }
   ],
   "source": [
    "omega0/(2*np.pi)"
   ]
  },
  {
   "cell_type": "code",
   "execution_count": 79,
   "metadata": {},
   "outputs": [
    {
     "data": {
      "text/plain": [
       "727272727272727.2"
      ]
     },
     "execution_count": 79,
     "metadata": {},
     "output_type": "execute_result"
    }
   ],
   "source": [
    "sampling_rate"
   ]
  },
  {
   "cell_type": "code",
   "execution_count": 96,
   "metadata": {},
   "outputs": [
    {
     "name": "stderr",
     "output_type": "stream",
     "text": [
      "/Users/jackhirschman/anaconda3/envs/main_env/lib/python3.7/site-packages/numpy/core/_asarray.py:83: ComplexWarning: Casting complex values to real discards the imaginary part\n",
      "  return array(a, dtype, copy=False, order=order)\n"
     ]
    },
    {
     "data": {
      "text/plain": [
       "(-2e-14, 2e-14)"
      ]
     },
     "execution_count": 96,
     "metadata": {},
     "output_type": "execute_result"
    },
    {
     "data": {
      "image/png": "[encoded data removed]",
      "text/plain": [
       "<Figure size 432x288 with 1 Axes>"
      ]
     },
     "metadata": {
      "needs_background": "light"
     },
     "output_type": "display_data"
    }
   ],
   "source": [
    "plt.plot(t,np.fft.fftshift(np.fft.fft((np.fft.ifftshift(np.abs(EofT)**2)))))\n",
    "plt.xlim(-.2e-13,.2e-13)"
   ]
  },
  {
   "cell_type": "code",
   "execution_count": null,
   "metadata": {},
   "outputs": [],
   "source": []
  }
 ],
 "metadata": {
  "kernelspec": {
   "display_name": "Python 3",
   "language": "python",
   "name": "python3"
  },
  "language_info": {
   "codemirror_mode": {
    "name": "ipython",
    "version": 3
   },
   "file_extension": ".py",
   "mimetype": "text/x-python",
   "name": "python",
   "nbconvert_exporter": "python",
   "pygments_lexer": "ipython3",
   "version": "3.7.9"
  }
 },
 "nbformat": 4,
 "nbformat_minor": 4
}
